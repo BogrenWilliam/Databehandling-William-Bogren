{
 "cells": [
  {
   "cell_type": "markdown",
   "metadata": {},
   "source": [
    "### API\n",
    "\n",
    "- Application programmering interface"
   ]
  },
  {
   "cell_type": "code",
   "execution_count": 4,
   "metadata": {},
   "outputs": [],
   "source": [
    "from dotenv import load_dotenv\n",
    "import os, requests\n",
    "import pandas as pd\n",
    "\n",
    "load_dotenv()\n",
    "api_key = os.getenv(\"ALPHA_API_KEY\")\n",
    "symbols = [\"AAPL\", \"NVDA\", \"TSLA\", \"IBM\"]\n",
    "stock_list = []\n",
    "\n",
    "for symbol in symbols:\n",
    "    function = \"TIME_SERIES_INTRADAY\"\n",
    "    url = f\"https://www.alphavantage.co/query?function={function}&symbol={symbol}&interval=5min&apikey={api_key}\"\n",
    "    data = requests.get(url).json()\n",
    "    stock_list.append(data)"
   ]
  },
  {
   "cell_type": "code",
   "execution_count": 5,
   "metadata": {},
   "outputs": [
    {
     "data": {
      "text/plain": [
       "4"
      ]
     },
     "execution_count": 5,
     "metadata": {},
     "output_type": "execute_result"
    }
   ],
   "source": [
    "len(stock_list)"
   ]
  },
  {
   "cell_type": "code",
   "execution_count": 6,
   "metadata": {},
   "outputs": [
    {
     "data": {
      "text/plain": [
       "dict_keys(['Meta Data', 'Time Series (5min)'])"
      ]
     },
     "execution_count": 6,
     "metadata": {},
     "output_type": "execute_result"
    }
   ],
   "source": [
    "stock_list[0].keys()"
   ]
  },
  {
   "cell_type": "code",
   "execution_count": 7,
   "metadata": {},
   "outputs": [
    {
     "data": {
      "text/html": [
       "<div>\n",
       "<style scoped>\n",
       "    .dataframe tbody tr th:only-of-type {\n",
       "        vertical-align: middle;\n",
       "    }\n",
       "\n",
       "    .dataframe tbody tr th {\n",
       "        vertical-align: top;\n",
       "    }\n",
       "\n",
       "    .dataframe thead th {\n",
       "        text-align: right;\n",
       "    }\n",
       "</style>\n",
       "<table border=\"1\" class=\"dataframe\">\n",
       "  <thead>\n",
       "    <tr style=\"text-align: right;\">\n",
       "      <th></th>\n",
       "      <th>1. open</th>\n",
       "      <th>2. high</th>\n",
       "      <th>3. low</th>\n",
       "      <th>4. close</th>\n",
       "      <th>5. volume</th>\n",
       "    </tr>\n",
       "  </thead>\n",
       "  <tbody>\n",
       "    <tr>\n",
       "      <th>2022-11-07 20:00:00</th>\n",
       "      <td>139.5000</td>\n",
       "      <td>139.5600</td>\n",
       "      <td>139.4700</td>\n",
       "      <td>139.5400</td>\n",
       "      <td>13912</td>\n",
       "    </tr>\n",
       "    <tr>\n",
       "      <th>2022-11-07 19:55:00</th>\n",
       "      <td>139.4500</td>\n",
       "      <td>139.5300</td>\n",
       "      <td>139.4201</td>\n",
       "      <td>139.5300</td>\n",
       "      <td>2975</td>\n",
       "    </tr>\n",
       "    <tr>\n",
       "      <th>2022-11-07 19:50:00</th>\n",
       "      <td>139.4500</td>\n",
       "      <td>139.5000</td>\n",
       "      <td>139.4500</td>\n",
       "      <td>139.5000</td>\n",
       "      <td>7016</td>\n",
       "    </tr>\n",
       "    <tr>\n",
       "      <th>2022-11-07 19:45:00</th>\n",
       "      <td>139.3300</td>\n",
       "      <td>139.4900</td>\n",
       "      <td>139.3100</td>\n",
       "      <td>139.4300</td>\n",
       "      <td>6821</td>\n",
       "    </tr>\n",
       "    <tr>\n",
       "      <th>2022-11-07 19:40:00</th>\n",
       "      <td>139.3900</td>\n",
       "      <td>139.3900</td>\n",
       "      <td>139.3000</td>\n",
       "      <td>139.3300</td>\n",
       "      <td>5415</td>\n",
       "    </tr>\n",
       "  </tbody>\n",
       "</table>\n",
       "</div>"
      ],
      "text/plain": [
       "                      1. open   2. high    3. low  4. close 5. volume\n",
       "2022-11-07 20:00:00  139.5000  139.5600  139.4700  139.5400     13912\n",
       "2022-11-07 19:55:00  139.4500  139.5300  139.4201  139.5300      2975\n",
       "2022-11-07 19:50:00  139.4500  139.5000  139.4500  139.5000      7016\n",
       "2022-11-07 19:45:00  139.3300  139.4900  139.3100  139.4300      6821\n",
       "2022-11-07 19:40:00  139.3900  139.3900  139.3000  139.3300      5415"
      ]
     },
     "execution_count": 7,
     "metadata": {},
     "output_type": "execute_result"
    }
   ],
   "source": [
    "# datetime1: dict\n",
    "# datetime2: dict\n",
    "pd.DataFrame(stock_list[0][\"Time Series (5min)\"]).T.head()"
   ]
  },
  {
   "cell_type": "code",
   "execution_count": null,
   "metadata": {},
   "outputs": [],
   "source": [
    "load_dotenv()\n",
    "api_key = os.getenv(\"ALPHA_API_KEY\")\n",
    "symbols = [\"AAPL\", \"NVDA\", \"TSLA\", \"IBM\"]\n",
    "stock_list = []\n",
    "\n",
    "for symbol in symbols:\n",
    "    function = \"TIME_SERIES_INTRADAY\"\n",
    "    url = f\"https://www.alphavantage.co/query?function={function}&symbol={symbol}&interval=60min&apikey={api_key}\"\n",
    "    data = requests.get(url).json()\n",
    "    df = pd.DataFrame(data[\"Time Series (60min)\"]).T\n",
    "    stock_list.append(df)"
   ]
  },
  {
   "cell_type": "code",
   "execution_count": 8,
   "metadata": {},
   "outputs": [
    {
     "ename": "NameError",
     "evalue": "name 'df' is not defined",
     "output_type": "error",
     "traceback": [
      "\u001b[1;31m---------------------------------------------------------------------------\u001b[0m",
      "\u001b[1;31mNameError\u001b[0m                                 Traceback (most recent call last)",
      "Cell \u001b[1;32mIn [8], line 1\u001b[0m\n\u001b[1;32m----> 1\u001b[0m df\u001b[39m.\u001b[39minfo()\n",
      "\u001b[1;31mNameError\u001b[0m: name 'df' is not defined"
     ]
    }
   ],
   "source": [
    "df.info()"
   ]
  }
 ],
 "metadata": {
  "kernelspec": {
   "display_name": "Python 3.9.13 ('Databehandling-William-Bogren-bFIwYi9Y')",
   "language": "python",
   "name": "python3"
  },
  "language_info": {
   "codemirror_mode": {
    "name": "ipython",
    "version": 3
   },
   "file_extension": ".py",
   "mimetype": "text/x-python",
   "name": "python",
   "nbconvert_exporter": "python",
   "pygments_lexer": "ipython3",
   "version": "3.9.13"
  },
  "orig_nbformat": 4,
  "vscode": {
   "interpreter": {
    "hash": "7bc9cc7dee45431398ebb28a3dc9fd0410f89326f8211c41af1c597e98f5441c"
   }
  }
 },
 "nbformat": 4,
 "nbformat_minor": 2
}
