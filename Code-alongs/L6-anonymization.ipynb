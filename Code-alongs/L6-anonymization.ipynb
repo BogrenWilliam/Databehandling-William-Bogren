{
 "cells": [
  {
   "cell_type": "markdown",
   "metadata": {},
   "source": [
    "# Anonymization\n",
    "\n",
    "- pseudoanonymization\n"
   ]
  },
  {
   "cell_type": "code",
   "execution_count": 1,
   "metadata": {},
   "outputs": [
    {
     "data": {
      "text/plain": [
       "('09aaf4c131607432fadfcb4b52837d486373dd2ef450b5d92429cd21255b9c13',\n",
       " '19cbc014f340c45cb2508c8b4c7b8df31f55016ab6e03fc764429be3c2b675e7')"
      ]
     },
     "execution_count": 1,
     "metadata": {},
     "output_type": "execute_result"
    }
   ],
   "source": [
    "import hashlib as hl \n",
    "\n",
    "string_to_hash = \"supersäkert_Lösen0rd\".encode()\n",
    "string_to_hash2 = \"Supersäkert_Lösen0rd\".encode()\n",
    "\n",
    "hl.sha256(string_to_hash).hexdigest(), hl.sha256(string_to_hash2).hexdigest()\n"
   ]
  },
  {
   "cell_type": "code",
   "execution_count": null,
   "metadata": {},
   "outputs": [],
   "source": [
    "hl.sha256(string_to_hash).hexdigest() == hl.sha256(\"supersäkert_Lösen0rd\".encode()).hexdigest()"
   ]
  }
 ],
 "metadata": {
  "kernelspec": {
   "display_name": "Python 3.9.13 ('Databehandling-William-Bogren-bFIwYi9Y')",
   "language": "python",
   "name": "python3"
  },
  "language_info": {
   "codemirror_mode": {
    "name": "ipython",
    "version": 3
   },
   "file_extension": ".py",
   "mimetype": "text/x-python",
   "name": "python",
   "nbconvert_exporter": "python",
   "pygments_lexer": "ipython3",
   "version": "3.9.13"
  },
  "orig_nbformat": 4,
  "vscode": {
   "interpreter": {
    "hash": "7bc9cc7dee45431398ebb28a3dc9fd0410f89326f8211c41af1c597e98f5441c"
   }
  }
 },
 "nbformat": 4,
 "nbformat_minor": 2
}
