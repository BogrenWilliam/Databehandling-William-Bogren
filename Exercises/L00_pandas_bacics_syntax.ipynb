{
 "cells": [
  {
   "cell_type": "markdown",
   "metadata": {},
   "source": [
    "## 1. Cities in Sweden - create dataset\n",
    "\n",
    "- a) Use your DataFrame to primt out all the cities\n",
    "- b) Select only the row which contains Göteborg. Do this by using the name Göteborg\n",
    "- c) Sort the citeis by population"
   ]
  },
  {
   "cell_type": "code",
   "execution_count": 1,
   "metadata": {},
   "outputs": [],
   "source": [
    "import pandas as pd \n"
   ]
  },
  {
   "cell_type": "code",
   "execution_count": null,
   "metadata": {},
   "outputs": [],
   "source": [
    "programs_dict = pd.Series({\"0\": \"347949\", \"1\": \"975551\" })"
   ]
  }
 ],
 "metadata": {
  "kernelspec": {
   "display_name": "Python 3.9.13 ('Databehandling-William-Bogren-bFIwYi9Y')",
   "language": "python",
   "name": "python3"
  },
  "language_info": {
   "codemirror_mode": {
    "name": "ipython",
    "version": 3
   },
   "file_extension": ".py",
   "mimetype": "text/x-python",
   "name": "python",
   "nbconvert_exporter": "python",
   "pygments_lexer": "ipython3",
   "version": "3.9.13"
  },
  "orig_nbformat": 4,
  "vscode": {
   "interpreter": {
    "hash": "7bc9cc7dee45431398ebb28a3dc9fd0410f89326f8211c41af1c597e98f5441c"
   }
  }
 },
 "nbformat": 4,
 "nbformat_minor": 2
}
